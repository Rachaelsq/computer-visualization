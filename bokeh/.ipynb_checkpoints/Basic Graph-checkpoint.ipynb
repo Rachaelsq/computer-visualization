{
 "cells": [
  {
   "cell_type": "code",
   "execution_count": 1,
   "id": "70dbbbfc",
   "metadata": {},
   "outputs": [],
   "source": [
    "#making a basic line graph\n",
    "\n",
    "#importing bokeh\n",
    "from bokeh.plotting import figure\n",
    "from bokeh.io import output_file, show\n",
    "\n",
    "#prepare some data\n",
    "x=[1,2,3,4,5]\n",
    "y=[6,7,8,9,10]\n",
    "\n",
    "#prepare the output file\n",
    "output_file(\"Line.html\")\n",
    "\n",
    "#create figure object (stored in f variable)\n",
    "f=figure()\n",
    "\n",
    "#Create line plot\n",
    "f.line(x,y)\n",
    "\n",
    "show(f)"
   ]
  }
 ],
 "metadata": {
  "kernelspec": {
   "display_name": "Python 3",
   "language": "python",
   "name": "python3"
  },
  "language_info": {
   "codemirror_mode": {
    "name": "ipython",
    "version": 3
   },
   "file_extension": ".py",
   "mimetype": "text/x-python",
   "name": "python",
   "nbconvert_exporter": "python",
   "pygments_lexer": "ipython3",
   "version": "3.8.8"
  }
 },
 "nbformat": 4,
 "nbformat_minor": 5
}
